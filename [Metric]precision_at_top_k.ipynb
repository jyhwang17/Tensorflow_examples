{
 "cells": [
  {
   "cell_type": "code",
   "execution_count": 1,
   "metadata": {
    "scrolled": true
   },
   "outputs": [
    {
     "name": "stderr",
     "output_type": "stream",
     "text": [
      "/home/ec2-user/anaconda3/envs/tensorflow_p27/lib/python2.7/site-packages/h5py/__init__.py:36: FutureWarning: Conversion of the second argument of issubdtype from `float` to `np.floating` is deprecated. In future, it will be treated as `np.float64 == np.dtype(float).type`.\n",
      "  from ._conv import register_converters as _register_converters\n"
     ]
    }
   ],
   "source": [
    "import tensorflow as tf\n",
    "import numpy as np"
   ]
  },
  {
   "cell_type": "markdown",
   "metadata": {},
   "source": [
    "# Label Scenario\n",
    "assumed..\n",
    "\n",
    "fisrt user has two labels '0' and '1',\n",
    "\n",
    "second user has two labels '4' and '5'\n"
   ]
  },
  {
   "cell_type": "code",
   "execution_count": 2,
   "metadata": {},
   "outputs": [],
   "source": [
    "NUM_CLASSES = 10\n",
    "\n",
    "labels = [\n",
    "    [\n",
    "        1, 0, 0, 0, 0, 0, 0, 0, 0, 1\n",
    "    ],\n",
    "    [\n",
    "        0, 0, 0, 0, 1, 1, 0, 0, 0, 0\n",
    "    ]\n",
    "    \n",
    "]"
   ]
  },
  {
   "cell_type": "markdown",
   "metadata": {},
   "source": [
    "# Learning Scenario\n",
    "asummed..\n",
    "\n",
    "first user's predictive scores will be learned with gradient maginitude '0.3'\n",
    "\n",
    "second user's predictive scores will be learned with gradient magnitude '0.4'"
   ]
  },
  {
   "cell_type": "code",
   "execution_count": 3,
   "metadata": {},
   "outputs": [
    {
     "data": {
      "text/plain": [
       "(2, 10)"
      ]
     },
     "execution_count": 3,
     "metadata": {},
     "output_type": "execute_result"
    }
   ],
   "source": [
    "scores_at_iter1 = [\n",
    "    [\n",
    "        0.0, 1.0, 1.0, 1.0, 1.0, 1.0, 1.0, 1.0, 1.0, 0.0   \n",
    "    ],\n",
    "    [\n",
    "        1.0, 1.0, 1.0, 1.0, 0.0, 0.0, 1.0, 1.0, 1.0, 1.0\n",
    "    ],\n",
    "]\n",
    "\n",
    "scores_at_iter2 = [\n",
    "    [\n",
    "        0.3, 0.7, 0.7, 0.7, 0.7, 0.7, 0.7, 0.7, 0.7, 0.3\n",
    "    ],\n",
    "    \n",
    "    [\n",
    "        0.4, 0.4, 0.4, 0.4, 0.6, 0.6, 0.4, 0.4 ,0.4, 0.4\n",
    "    ],\n",
    "]\n",
    "\n",
    "scores_at_iter3 = [\n",
    "    [\n",
    "        0.6, 0.4, 0.4, 0.4, 0.4, 0.4, 0.4, 0.4, 0.4, 0.6\n",
    "    ],\n",
    "    \n",
    "    [\n",
    "        -0.2,-0.2,-0.2,-0.2,1.2,1.2,-0.2,-0.2,-0.2,-0.2 \n",
    "    ]\n",
    "    ,\n",
    "]\n",
    "\n",
    "np.array(scores_at_iter1).shape"
   ]
  },
  {
   "cell_type": "markdown",
   "metadata": {},
   "source": [
    "# Prediction Scenario\n",
    "assummed..\n",
    "\n",
    "model predicts labels with top-k scores\n",
    "\n",
    "topk = 2"
   ]
  },
  {
   "cell_type": "code",
   "execution_count": 4,
   "metadata": {},
   "outputs": [],
   "source": [
    "def precision_at_top_k(pred_top_k,labels,topk):\n",
    "    '''\n",
    "    Args:\n",
    "    \n",
    "    - pred_top_k:  prediction tensor with shape [batchSize, NUMCLASSES],where value '1' means\n",
    "     corresponding class is predicted.\n",
    "    \n",
    "    - labels : label tensor with sahpe [bathSize,NUMCLASSES]\n",
    "    \n",
    "    - topk: The number of prediction with top-k scores\n",
    "    \n",
    "    '''\n",
    "    hitCounts = tf.reduce_sum(pred_top_k*labels,axis=1)\n",
    "    hitsRatio = hitCounts/topk\n",
    "    return tf.metrics.mean(hitsRatio)\n",
    "\n",
    "topk=2\n",
    "score_tensor = tf.placeholder(tf.float32, [None,NUM_CLASSES])\n",
    "label_tensor = tf.placeholder(tf.float32, [None,NUM_CLASSES])\n",
    "\n",
    "pred_top_k_tensor =tf.reduce_sum(\n",
    "    tf.one_hot( tf.nn.top_k(score_tensor,k=topk).indices, depth =NUM_CLASSES),\n",
    "    axis=1 )"
   ]
  },
  {
   "cell_type": "code",
   "execution_count": 5,
   "metadata": {},
   "outputs": [],
   "source": [
    "sess= tf.Session()\n",
    "sess.run(tf.global_variables_initializer())\n",
    "sess.run(tf.local_variables_initializer())"
   ]
  },
  {
   "cell_type": "markdown",
   "metadata": {},
   "source": [
    "# Simulation "
   ]
  },
  {
   "cell_type": "code",
   "execution_count": 6,
   "metadata": {},
   "outputs": [
    {
     "name": "stdout",
     "output_type": "stream",
     "text": [
      "0.0 0.0\n",
      "0.0 0.5\n",
      "0.0 1.0\n",
      "1.0 0.5\n"
     ]
    }
   ],
   "source": [
    "precision_at_k_tensor = precision_at_top_k(pred_top_k = pred_top_k_tensor, labels=label_tensor,topk=topk)\n",
    "\n",
    "#Iteration 1\n",
    "\n",
    "sess.run(tf.local_variables_initializer())\n",
    "op1,op2 = sess.run(precision_at_k_tensor, feed_dict={score_tensor : np.array(scores_at_iter1), label_tensor: np.array(labels)})\n",
    "print op1,op2\n",
    "\n",
    "\n",
    "#Iteration 2\n",
    "sess.run(tf.local_variables_initializer())\n",
    "op1,op2 = sess.run(precision_at_k_tensor, feed_dict={score_tensor : np.array(scores_at_iter2), label_tensor: np.array(labels)})\n",
    "print op1,op2\n",
    "\n",
    "#Iteration 3\n",
    "sess.run(tf.local_variables_initializer())\n",
    "op1,op2 = sess.run(precision_at_k_tensor, feed_dict={score_tensor : np.array(scores_at_iter3), label_tensor: np.array(labels)})\n",
    "print op1,op2\n",
    "\n",
    "# check Running accuracy\n",
    "op1,op2 = sess.run(precision_at_k_tensor, feed_dict={score_tensor : np.array(scores_at_iter1), label_tensor: np.array(labels)})\n",
    "print op1,op2"
   ]
  },
  {
   "cell_type": "code",
   "execution_count": null,
   "metadata": {},
   "outputs": [],
   "source": []
  }
 ],
 "metadata": {
  "kernelspec": {
   "display_name": "conda_tensorflow_p27",
   "language": "python",
   "name": "conda_tensorflow_p27"
  },
  "language_info": {
   "codemirror_mode": {
    "name": "ipython",
    "version": 2
   },
   "file_extension": ".py",
   "mimetype": "text/x-python",
   "name": "python",
   "nbconvert_exporter": "python",
   "pygments_lexer": "ipython2",
   "version": "2.7.14"
  }
 },
 "nbformat": 4,
 "nbformat_minor": 2
}
